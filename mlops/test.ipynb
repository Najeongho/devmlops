   import numpy as np
   import pandas as pd
   import matplotlib.pyplot as plt
   from sklearn.datasets import load_iris

   # 데이터 로드
   iris = load_iris()
   df = pd.DataFrame(iris.data, columns=iris.feature_names)
   df['target'] = iris.target

   # 데이터 확인
   print(df.head())


   # 간단한 시각화
   plt.figure(figsize=(10, 6))
   plt.scatter(df['sepal length (cm)'], df['sepal width (cm)'], c=df['target'])
   plt.xlabel('Sepal Length (cm)')
   plt.ylabel('Sepal Width (cm)')
   plt.title('Iris Dataset: Sepal Length vs Width')
   plt.show()