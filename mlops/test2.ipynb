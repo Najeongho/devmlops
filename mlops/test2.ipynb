import pandas as pd
import matplotlib.pyplot as plt

# 샘플 데이터 생성
data = {'x': [1, 2, 3, 4, 5], 'y': [2, 4, 5, 4, 5]}
df = pd.DataFrame(data)

# 데이터 시각화
plt.plot(df['x'], df['y'])
plt.title('Sample Plot')
plt.xlabel('X axis')
plt.ylabel('Y axis')
plt.show()